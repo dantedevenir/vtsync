{
 "cells": [
  {
   "cell_type": "code",
   "execution_count": 43,
   "metadata": {},
   "outputs": [
    {
     "name": "stdout",
     "output_type": "stream",
     "text": [
      "b'{\"success\":true,\"result\":{\"username\":\"admin\",\"first_name\":\"Jorge\",\"last_name\":\"Devia\",\"email\":\"jorged94@mabecenter.org\",\"time_zone\":\"America\\\\/Bogota\",\"hour_format\":\"12\",\"date_format\":\"mm-dd-yyyy\",\"is_admin\":\"on\",\"call_duration\":\"5\",\"other_event_duration\":\"5\",\"sessionName\":\"1adbc90d66fc1a3586cbb\",\"userId\":\"19x1\",\"version\":\"0.22\",\"vtigerVersion\":\"8.2.0\"}}'\n",
      "19x1\n"
     ]
    }
   ],
   "source": [
    "from api.sync import Sync\n",
    "\n",
    "client = Sync('http://192.168.99.115:8080/', 'admin', 'rRS6ILcR1Emk0Xmq')\n",
    "\n",
    "#invoice_mid = \"5\"\n",
    "#service_mid = \"24\"\n",
    "#product_mid = \"14\"\n",
    "#user_mid = \"19\"\n",
    "#contact_mid = \"12\"\n",
    "#account_mid = \"11\"\n",
    "\n",
    "service_id = \"24x3\"\n",
    "product_id = \"14x5\"\n",
    "account_id = \"11x3\"\n",
    "assigned_user_id = \"19x1\" #cf_790\n",
    "\n",
    "#client = Sync('http://192.168.99.102/vtigercrm_2022', 'superadmin', 'MFaeyxCMTmRrUZiE')\n",
    "#product_id = \"14x11\"\n",
    "#assigned_user_id = \"19x75\" #cf_759 \"cf_2141\": \"2024-01-01\","
   ]
  },
  {
   "cell_type": "code",
   "execution_count": 30,
   "metadata": {},
   "outputs": [],
   "source": [
    "contact_data = {\n",
    "    \"assigned_user_id\": assigned_user_id,\n",
    "    \"firstname\": \"Jorgse\",\n",
    "    \"lastname\": \"Devia\"\n",
    "}"
   ]
  },
  {
   "cell_type": "code",
   "execution_count": 31,
   "metadata": {},
   "outputs": [
    {
     "name": "stdout",
     "output_type": "stream",
     "text": [
      "{'operation': 'create', 'sessionName': '54a3bd7666fc0db6c86f0', 'elementType': 'Contacts', 'element': '{\"assigned_user_id\": \"19x1\", \"firstname\": \"Jorgse\", \"lastname\": \"Devia\"}'}\n",
      "b'{\"success\":true,\"result\":{\"salutationtype\":\"\",\"firstname\":\"Jorgse\",\"contact_no\":\"CON1\",\"phone\":\"\",\"lastname\":\"Devia\",\"mobile\":\"\",\"account_id\":\"\",\"homephone\":\"\",\"leadsource\":\"\",\"otherphone\":\"\",\"title\":\"\",\"fax\":\"\",\"department\":\"\",\"birthday\":\"\",\"email\":\"\",\"contact_id\":\"\",\"assistant\":\"\",\"secondaryemail\":\"\",\"assistantphone\":\"\",\"donotcall\":\"0\",\"emailoptout\":\"0\",\"assigned_user_id\":\"19x1\",\"reference\":\"0\",\"notify_owner\":\"0\",\"createdtime\":\"2024-10-01 14:56:59\",\"modifiedtime\":\"2024-10-01 14:56:59\",\"modifiedby\":\"19x1\",\"portal\":\"0\",\"support_start_date\":\"\",\"support_end_date\":\"\",\"mailingstreet\":\"\",\"otherstreet\":\"\",\"mailingcity\":\"\",\"othercity\":\"\",\"mailingstate\":\"\",\"otherstate\":\"\",\"mailingzip\":\"\",\"otherzip\":\"\",\"mailingcountry\":\"\",\"othercountry\":\"\",\"mailingpobox\":\"\",\"otherpobox\":\"\",\"imagename\":\"\",\"description\":\"\",\"isconvertedfromlead\":\"0\",\"source\":\"WEBSERVICE\",\"starred\":\"0\",\"tags\":\"\",\"id\":\"12x2\",\"label\":\"Jorgse Devia\"}}'\n"
     ]
    },
    {
     "data": {
      "text/plain": [
       "'12x2'"
      ]
     },
     "execution_count": 31,
     "metadata": {},
     "output_type": "execute_result"
    }
   ],
   "source": [
    "contact_id = client.create_contact(contact_data)\n",
    "contact_id"
   ]
  },
  {
   "cell_type": "code",
   "execution_count": 44,
   "metadata": {},
   "outputs": [
    {
     "data": {
      "text/plain": [
       "'12x2'"
      ]
     },
     "execution_count": 44,
     "metadata": {},
     "output_type": "execute_result"
    }
   ],
   "source": [
    "contact_id = client.get_contact_id('Jorgse', 'Devia', '01-03-1961')\n",
    "contact_id"
   ]
  },
  {
   "cell_type": "code",
   "execution_count": 47,
   "metadata": {},
   "outputs": [
    {
     "data": {
      "text/plain": [
       "'{\"subject\": \"testing_3\", \"contact_id\": \"12x2\", \"sostatus\": \"Created\", \"assigned_user_id\": \"19x1\", \"productid\": \"14x5\", \"account_id\": \"11x3\", \"invoicestatus\": \"Draft\", \"bill_street\": \"ddd\", \"ship_street\": \"ddd\", \"LineItems\": [{\"productid\": \"14x5\", \"listprice\": \"0\", \"quantity\": \"1\"}]}'"
      ]
     },
     "execution_count": 47,
     "metadata": {},
     "output_type": "execute_result"
    }
   ],
   "source": [
    "import json\n",
    "salesorder_data = {\n",
    "    \"subject\": \"testing_3\",\n",
    "    \"contact_id\": contact_id,\n",
    "    \"sostatus\": \"Created\",\n",
    "    \"assigned_user_id\": assigned_user_id,\n",
    "    \"productid\": product_id,\n",
    "    \"account_id\": account_id,\n",
    "    \"invoicestatus\": \"Draft\",\n",
    "    \"bill_street\": \"ddd\",\n",
    "    \"ship_street\": \"ddd\",\n",
    "    \"LineItems\": [\n",
    "        {\n",
    "            \"productid\": product_id,\n",
    "            \"listprice\": \"0\",\n",
    "            \"quantity\": \"1\"\n",
    "        }\n",
    "    ]\n",
    "}\n",
    "json.dumps(salesorder_data)"
   ]
  },
  {
   "cell_type": "code",
   "execution_count": 48,
   "metadata": {},
   "outputs": [
    {
     "name": "stdout",
     "output_type": "stream",
     "text": [
      "{'operation': 'create', 'sessionName': '1adbc90d66fc1a3586cbb', 'elementType': 'SalesOrder', 'element': '{\"subject\": \"testing_3\", \"contact_id\": \"12x2\", \"sostatus\": \"Created\", \"assigned_user_id\": \"19x1\", \"productid\": \"14x5\", \"account_id\": \"11x3\", \"invoicestatus\": \"Draft\", \"bill_street\": \"ddd\", \"ship_street\": \"ddd\", \"LineItems\": [{\"productid\": \"14x5\", \"listprice\": \"0\", \"quantity\": \"1\"}]}'}\n",
      "b'{\"success\":true,\"result\":{\"id\":\"3x4\",\"salesorder_no\":\"SO1\",\"subject\":\"testing_3\",\"potential_id\":\"\",\"customerno\":\"\",\"quote_id\":\"\",\"vtiger_purchaseorder\":\"\",\"contact_id\":\"12x2\",\"duedate\":\"\",\"carrier\":\"\",\"pending\":\"\",\"sostatus\":\"Created\",\"txtAdjustment\":\"0.00000000\",\"salescommission\":\"0.000\",\"exciseduty\":\"0.000\",\"hdnGrandTotal\":0,\"hdnSubTotal\":0,\"hdnTaxType\":\"\",\"hdnDiscountPercent\":\"\",\"hdnDiscountAmount\":\"\",\"hdnS_H_Amount\":\"0.00000000\",\"account_id\":\"11x3\",\"assigned_user_id\":\"19x1\",\"createdtime\":\"2024-10-01 15:50:49\",\"modifiedtime\":\"2024-10-01 15:50:49\",\"modifiedby\":\"19x1\",\"currency_id\":\"\",\"conversion_rate\":\"1.000\",\"bill_street\":\"ddd\",\"ship_street\":\"ddd\",\"bill_city\":\"\",\"ship_city\":\"\",\"bill_state\":\"\",\"ship_state\":\"\",\"bill_code\":\"\",\"ship_code\":\"\",\"bill_country\":\"\",\"ship_country\":\"\",\"bill_pobox\":\"\",\"ship_pobox\":\"\",\"description\":\"\",\"terms_conditions\":\"\",\"enable_recurring\":\"0\",\"recurring_frequency\":\"\",\"start_period\":\"\",\"end_period\":\"\",\"payment_duration\":\"\",\"invoicestatus\":\"Draft\",\"pre_tax_total\":0,\"hdnS_H_Percent\":\"0.000\",\"source\":\"WEBSERVICE\",\"starred\":\"0\",\"tags\":\"\",\"region_id\":\"\",\"last_recurring_date\":\"\",\"label\":\"testing_3\",\"shipping_&_handling\":null,\"shipping_&_handling_shtax1\":0,\"shipping_&_handling_shtax2\":0,\"shipping_&_handling_shtax3\":0,\"LineItems\":[{\"parent_id\":\"3xArray\",\"productid\":\"\",\"sequence_no\":\"1\",\"quantity\":\"1.000\",\"listprice\":\"0.00000000\",\"discount_percent\":\"0.000\",\"discount_amount\":\"0.00000000\",\"comment\":\"\",\"description\":\"\",\"incrementondel\":\"0\",\"tax1\":\"0.000\",\"tax2\":\"0.000\",\"tax3\":\"0.000\",\"image\":\"\",\"purchase_cost\":\"0.00000000\",\"margin\":\"0.00000000\",\"id\":\"33x1\",\"product_name\":null,\"entity_type\":null,\"deleted\":null}],\"productid\":null,\"LineItems_FinalDetails\":{\"1\":{\"final_details\":{\"taxtype\":null,\"discount_type_final\":\"zero\",\"hdnSubTotal\":\"0.00\",\"discount_percentage_final\":0,\"discount_amount_final\":\"0.00\",\"discountTotal_final\":\"0.00\",\"taxes\":{\"1\":{\"taxname\":\"tax1\",\"taxlabel\":\"VAT\",\"percentage\":\"4.500\",\"amount\":\"0.00\",\"taxid\":\"1\",\"type\":\"Fixed\",\"method\":\"Simple\",\"regions\":[],\"compoundon\":[]},\"2\":{\"taxname\":\"tax2\",\"taxlabel\":\"Sales\",\"percentage\":\"10.000\",\"amount\":\"0.00\",\"taxid\":\"2\",\"type\":\"Fixed\",\"method\":\"Simple\",\"regions\":[],\"compoundon\":[]},\"3\":{\"taxname\":\"tax3\",\"taxlabel\":\"Service\",\"percentage\":\"12.500\",\"amount\":\"0.00\",\"taxid\":\"3\",\"type\":\"Fixed\",\"method\":\"Simple\",\"regions\":[],\"compoundon\":[]}},\"tax_totalamount\":\"0.00\",\"shipping_handling_charge\":\"0.00\",\"sh_taxes\":[{\"taxname\":\"shtax1\",\"taxlabel\":\"VAT\",\"percentage\":0,\"amount\":0,\"taxid\":\"1\",\"type\":\"Fixed\",\"method\":\"Simple\",\"regions\":[],\"compoundon\":[]},{\"taxname\":\"shtax2\",\"taxlabel\":\"Sales\",\"percentage\":0,\"amount\":0,\"taxid\":\"2\",\"type\":\"Fixed\",\"method\":\"Simple\",\"regions\":[],\"compoundon\":[]},{\"taxname\":\"shtax3\",\"taxlabel\":\"Service\",\"percentage\":0,\"amount\":0,\"taxid\":\"3\",\"type\":\"Fixed\",\"method\":\"Simple\",\"regions\":[],\"compoundon\":[]}],\"shtax_totalamount\":\"0.00\",\"adjustment\":\"0.00\",\"grandTotal\":\"0.00\",\"preTaxTotal\":\"0.00\",\"totalAfterDiscount\":\"0.00\",\"chargesAndItsTaxes\":{\"1\":{\"value\":null,\"taxes\":{\"1\":0,\"2\":0,\"3\":0}}},\"deductTaxes\":[],\"deductTaxesTotalAmount\":\"0.00\"}}},\"new\":true}}'\n"
     ]
    },
    {
     "ename": "KeyError",
     "evalue": "0",
     "output_type": "error",
     "traceback": [
      "\u001b[0;31m---------------------------------------------------------------------------\u001b[0m",
      "\u001b[0;31mKeyError\u001b[0m                                  Traceback (most recent call last)",
      "Cell \u001b[0;32mIn[48], line 1\u001b[0m\n\u001b[0;32m----> 1\u001b[0m salesorder_id \u001b[38;5;241m=\u001b[39m \u001b[43mclient\u001b[49m\u001b[38;5;241;43m.\u001b[39;49m\u001b[43mcreate_salesorder\u001b[49m\u001b[43m(\u001b[49m\u001b[43msalesorder_data\u001b[49m\u001b[43m)\u001b[49m\n",
      "File \u001b[0;32m~/repos/vtsync/vtsync/base/api/sync.py:29\u001b[0m, in \u001b[0;36mSync.create_salesorder\u001b[0;34m(self, salesorder_data)\u001b[0m\n\u001b[1;32m     27\u001b[0m \u001b[38;5;28;01mdef\u001b[39;00m \u001b[38;5;21mcreate_salesorder\u001b[39m(\u001b[38;5;28mself\u001b[39m, salesorder_data):\n\u001b[1;32m     28\u001b[0m     salesOrder_id \u001b[38;5;241m=\u001b[39m \u001b[38;5;28mself\u001b[39m\u001b[38;5;241m.\u001b[39mws\u001b[38;5;241m.\u001b[39mdoCreate(\u001b[38;5;124m'\u001b[39m\u001b[38;5;124mSalesOrder\u001b[39m\u001b[38;5;124m'\u001b[39m, salesorder_data)\n\u001b[0;32m---> 29\u001b[0m     \u001b[38;5;28;01mreturn\u001b[39;00m \u001b[43msalesOrder_id\u001b[49m\u001b[43m[\u001b[49m\u001b[38;5;241;43m0\u001b[39;49m\u001b[43m]\u001b[49m[\u001b[38;5;124m'\u001b[39m\u001b[38;5;124mid\u001b[39m\u001b[38;5;124m'\u001b[39m]\n",
      "\u001b[0;31mKeyError\u001b[0m: 0"
     ]
    }
   ],
   "source": [
    "salesorder_id = client.create_salesorder(salesorder_data)"
   ]
  },
  {
   "cell_type": "code",
   "execution_count": 49,
   "metadata": {},
   "outputs": [
    {
     "name": "stdout",
     "output_type": "stream",
     "text": [
      "[{'salesorder_no': 'SO1', 'subject': 'testing_3', 'potential_id': '', 'customerno': '', 'quote_id': '', 'vtiger_purchaseorder': '', 'contact_id': '12x2', 'duedate': '', 'carrier': '', 'pending': '', 'sostatus': 'Created', 'txtAdjustment': '0.00000000', 'salescommission': '0.000', 'exciseduty': '0.000', 'hdnGrandTotal': '0.00000000', 'hdnSubTotal': '0.00000000', 'hdnTaxType': '', 'discount_percent': '0.000', 'discount_amount': '0.00000000', 'hdnS_H_Amount': '0.00000000', 'account_id': '11x3', 'assigned_user_id': '19x1', 'createdtime': '2024-10-01 15:50:49', 'modifiedtime': '2024-10-01 15:50:49', 'modifiedby': '19x1', 'currency_id': '', 'conversion_rate': '1.000', 'bill_street': 'ddd', 'ship_street': 'ddd', 'bill_city': '', 'ship_city': '', 'bill_state': '', 'ship_state': '', 'bill_code': '', 'ship_code': '', 'bill_country': '', 'ship_country': '', 'bill_pobox': '', 'ship_pobox': '', 'description': '', 'terms_conditions': '', 'enable_recurring': '0', 'recurring_frequency': '', 'start_period': '', 'end_period': '', 'payment_duration': '', 'invoicestatus': '', 'productid': '', 'quantity': '1.000', 'listprice': '0.00000000', 'comment': '', 'tax1': '0.000', 'tax2': '0.000', 'tax3': '0.000', 'pre_tax_total': '0.00000000', 'hdnS_H_Percent': '0.000', 'image': '', 'purchase_cost': '0.00000000', 'margin': '0.00000000', 'source': 'WEBSERVICE', 'starred': '0', 'tags': '', 'region_id': '', 'last_recurring_date': '', 'id': '3x4'}]\n"
     ]
    },
    {
     "data": {
      "text/plain": [
       "'3x4'"
      ]
     },
     "execution_count": 49,
     "metadata": {},
     "output_type": "execute_result"
    }
   ],
   "source": [
    "salesorder_id = client.get_salesorder_id(\"testing_3\")\n",
    "salesorder_id"
   ]
  }
 ],
 "metadata": {
  "kernelspec": {
   "display_name": "poetry",
   "language": "python",
   "name": "python3"
  },
  "language_info": {
   "codemirror_mode": {
    "name": "ipython",
    "version": 3
   },
   "file_extension": ".py",
   "mimetype": "text/x-python",
   "name": "python",
   "nbconvert_exporter": "python",
   "pygments_lexer": "ipython3",
   "version": "3.12.4"
  }
 },
 "nbformat": 4,
 "nbformat_minor": 2
}
