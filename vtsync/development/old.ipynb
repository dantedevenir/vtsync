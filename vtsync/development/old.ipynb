{
 "cells": [
  {
   "cell_type": "code",
   "execution_count": 1,
   "metadata": {},
   "outputs": [
    {
     "name": "stdout",
     "output_type": "stream",
     "text": [
      "19x113\n"
     ]
    }
   ],
   "source": [
    "from api.sync import Sync\n",
    "\n",
    "client = Sync('http://192.168.99.102/vtigercrm_2022', 'superadmin', 'MFaeyxCMTmRrUZiE')\n",
    "\n",
    "service_id = \"24x3\"\n",
    "product_id = \"14x11\"\n",
    "assigned_user_id = \"19x1\""
   ]
  },
  {
   "cell_type": "code",
   "execution_count": 2,
   "metadata": {},
   "outputs": [
    {
     "name": "stdout",
     "output_type": "stream",
     "text": [
      "{'message': 'Administrator'}\n"
     ]
    }
   ],
   "source": [
    "import requests\n",
    "\n",
    "# Datos de la API\n",
    "base_url = \"http://development.localhost:8000\"\n",
    "api_key = \"8d2f08387ea6aca\"\n",
    "api_secret = \"9b887566130a4cd\"\n",
    "\n",
    "# Headers para autenticación\n",
    "headers = {\n",
    "    \"Authorization\": f\"token {api_key}:{api_secret}\"\n",
    "}\n",
    "\n",
    "# Endpoint que deseas consumir (ejemplo: listar documentos de la Doctype 'Item')\n",
    "endpoint = \"/api/method/frappe.auth.get_logged_user\"\n",
    "\n",
    "# Hacer la petición GET\n",
    "response = requests.get(f\"{base_url}{endpoint}\", headers=headers)\n",
    "\n",
    "# Ver el resultado\n",
    "if response.status_code == 200:\n",
    "    data = response.json()\n",
    "    print(data)\n",
    "else:\n",
    "    print(f\"Error: {response.status_code} - {response.text}\")"
   ]
  },
  {
   "cell_type": "code",
   "execution_count": 3,
   "metadata": {},
   "outputs": [
    {
     "name": "stdout",
     "output_type": "stream",
     "text": [
      "{'salesorder_no': 'SO17305', 'subject': 'KELVIN CEDENO MORA', 'potential_id': '', 'customerno': '', 'quote_id': '', 'vtiger_purchaseorder': '', 'contact_id': '12x26532', 'duedate': '', 'carrier': '', 'pending': '', 'sostatus': '', 'txtAdjustment': '0.00000000', 'salescommission': '', 'exciseduty': '', 'hdnGrandTotal': '0.00000000', 'hdnSubTotal': '0.00000000', 'hdnTaxType': 'group', 'discount_percent': '', 'discount_amount': '', 'hdnS_H_Amount': '0.00000000', 'account_id': '', 'assigned_user_id': '19x113', 'createdtime': '2023-11-06 15:25:13', 'modifiedtime': '2024-09-09 19:24:03', 'modifiedby': '19x204', 'currency_id': '21x1', 'conversion_rate': '1.000', 'enable_recurring': '0', 'recurring_frequency': '', 'start_period': '', 'end_period': '', 'payment_duration': '', 'invoicestatus': '', 'productid': '14x29415', 'quantity': '1.000', 'listprice': '0.00000000', 'comment': '', 'tax1': '', 'tax2': '', 'tax3': '', 'pre_tax_total': '0.00000000', 'hdnS_H_Percent': '0', 'cf_1463': 'YES', 'cf_1465': '5275-1900-4123-1149', 'cf_1469': '1149', 'cf_1471': '', 'cf_1473': '12/28', 'cf_1475': '', 'cf_1477': '666', 'cf_1479': '', 'cf_1481': 'MASTERCARD', 'cf_1483': '', 'cf_1489': 'KELVINC30093@YOPMAIL.COM', 'cf_1491': 'MIAMI123a', 'cf_1493': 'KELVINC30093@YOPMAIL.COM', 'cf_1495': 'MIAMI123abc!', 'cf_1497': '', 'cf_1499': '', 'cf_1501': '', 'cf_1503': '', 'cf_1505': '', 'cf_1507': '', 'cf_1509': '', 'cf_1513': '', 'cf_1515': '', 'cf_1517': '', 'cf_1519': '', 'cf_1521': '', 'cf_1523': '', 'cf_1527': 'YES', 'cf_1587': '', 'cf_2025': '0.00', 'cf_2027': '0.00', 'cf_2031': '0.00', 'cf_2033': '0.00', 'cf_2035': '', 'cf_2037': '', 'cf_2039': '0.00', 'cf_2041': '', 'cf_2043': '', 'cf_2045': '0.00', 'cf_2047': '', 'cf_2049': '', 'cf_2051': '', 'cf_2053': '', 'cf_2055': '', 'cf_2057': '', 'cf_2059': '2025-01-01', 'cf_2061': '', 'cf_2063': '', 'cf_2065': '', 'cf_2067': 'Beatriz Sierra', 'cf_2069': '', 'cf_2071': '', 'cf_2115': '', 'cf_2119': 'U93383326', 'cf_2129': '', 'cf_2141': 'Active', 'cf_2143': '30044', 'cf_2145': 'Kelvin cedeno mora', 'cf_2147': '30', 'cf_2157': 'Debito', 'cf_2179': '2023-10-27', 'cf_2183': 'ADRIANA INFANTE', 'cf_2193': '', 'cf_2203': '', 'cf_2215': '', 'cf_2255': '2023-11-06', 'cf_2257': 'Daniela Lopez', 'cf_2261': '2024-08-31', 'cf_2263': '', 'cf_2273': '', 'cf_2291': '40', 'cf_2293': 'KELVIN', 'cf_2295': '', 'cf_2297': 'CEDENO MORA', 'cf_2299': '1983-11-14', 'cf_2303': 'Male', 'cf_2321': '797-62-6083', 'cf_2323': 'NOT', 'cf_2333': 'NOT', 'cf_2335': 'NOT', 'cf_2337': '20000.00', 'cf_2339': '', 'cf_2341': '', 'cf_2347': '', 'cf_2349': '', 'cf_2351': '', 'cf_2355': '', 'cf_2357': '', 'cf_2359': '', 'cf_2369': 'SPANISH', 'cf_2375': '', 'cf_2377': '', 'cf_2379': '', 'cf_2383': '', 'cf_2385': 'OBAMACARE', 'cf_2387': '1099', 'cf_2389': '', 'cf_2401': 'OBAMACARE', 'cf_2405': 'KAMIL', 'cf_2407': 'ISAAC', 'cf_2409': 'CEDENO BATISTA', 'cf_2411': 'MALE', 'cf_2413': '2017-06-24', 'cf_2417': 'REPUBLICA D', 'cf_2423': 'NOT', 'cf_2431': 'HIJO(A)', 'cf_2433': '', 'cf_2435': '', 'cf_2437': '', 'cf_2439': '', 'cf_2443': '', 'cf_2445': '', 'cf_2447': '', 'cf_2449': '', 'cf_2451': '', 'cf_2455': '', 'cf_2459': '', 'cf_2465': '', 'cf_2469': '', 'cf_2471': '', 'cf_2473': '', 'cf_2475': '', 'cf_2479': '', 'cf_2481': '', 'cf_2483': '', 'cf_2485': '', 'cf_2487': '', 'cf_2491': '', 'cf_2495': '', 'cf_2501': '', 'cf_2505': '', 'cf_2507': '', 'cf_2509': '', 'cf_2511': '', 'cf_2515': '', 'cf_2517': '', 'cf_2519': '', 'cf_2521': '', 'cf_2523': '', 'cf_2527': '', 'cf_2531': '', 'cf_2537': '', 'cf_2541': '', 'cf_2543': '', 'cf_2545': '', 'cf_2601': 'RESIDENTE', 'cf_2603': '', 'cf_2605': 'RESIDENTE', 'cf_2607': '', 'cf_2609': '', 'cf_2615': '', 'cf_2629': 'REPUBLICA DOMINICANA', 'cf_2631': '', 'cf_2639': '', 'cf_2645': '', 'cf_2647': '', 'cf_2649': '', 'cf_2679': '', 'cf_2681': '', 'cf_2683': '', 'cf_2685': '', 'cf_2687': '', 'cf_2699': '', 'cf_2703': '', 'cf_2709': '', 'cf_2711': 'NOT', 'cf_2713': '', 'cf_2715': '', 'cf_2717': '', 'cf_2719': '', 'cf_2725': '30044', 'cf_2729': '0', 'cf_2731': '', 'cf_2733': 'Personal', 'cf_2737': '1991 Rocky Mill Dr', 'cf_2739': 'Lawrenceville', 'cf_2743': '30044', 'cf_2745': '', 'cf_2747': '', 'cf_2749': 'KELSCOR@HOTMAIL.COM', 'cf_2751': '4703381451', 'cf_2753': '', 'cf_2755': '', 'cf_2757': '', 'cf_2759': '', 'cf_2765': 'GA', 'cf_2769': '0', 'cf_2773': '0', 'cf_2779': 'YES', 'cf_2795': '', 'cf_2799': '', 'cf_2803': '', 'cf_2805': '', 'cf_2823': '', 'cf_2825': '', 'cf_2827': '', 'id': '6x256896'}\n"
     ]
    }
   ],
   "source": [
    "module = \"SalesOrder\"\n",
    "condition = {\n",
    "    \"cf_2059\" :\"2025-01-01\"\n",
    "}\n",
    "\n",
    "module_object = client.search(module, condition)\n",
    "print(module_object[0])"
   ]
  },
  {
   "cell_type": "code",
   "execution_count": 4,
   "metadata": {},
   "outputs": [],
   "source": [
    "import json\n",
    "salesorder = module_object[10]\n",
    "#print(json.dumps(salesorder, indent=4))"
   ]
  },
  {
   "cell_type": "code",
   "execution_count": 5,
   "metadata": {},
   "outputs": [
    {
     "name": "stdout",
     "output_type": "stream",
     "text": [
      "{'firstname': 'MARIA', 'middlename': 'ANTONIA', 'lastname': 'PENA DUARTE', 'ssn': '', 'dob': '1989-06-04', 'gender': 'FEMALE', 'phone_1': '4074702750', 'phone_2': '', 'email': 'maria.a.pena04@hotmail.com'}\n"
     ]
    }
   ],
   "source": [
    "contact = client.get_contact_from_id(salesorder['contact_id'])\n",
    "print(contact)"
   ]
  },
  {
   "cell_type": "code",
   "execution_count": 34,
   "metadata": {},
   "outputs": [],
   "source": [
    "contact_data = {\n",
    "    \"first_name\": contact['firstname'],\n",
    "    \"middle_name\": contact['middlename'],\n",
    "    \"last_name\": contact['lastname'],\n",
    "    \"email_ids\": [  # Child table para emails\n",
    "        {\n",
    "            \"email_id\": contact['email'],  # Email principal\n",
    "            \"is_primary\": 1  # Marca como principal\n",
    "        }\n",
    "    ],\n",
    "    \"phone_nos\": [  # Child table para números de teléfono\n",
    "        {\n",
    "            \"phone\": contact['phone_1'],  # Teléfono principal\n",
    "            \"is_primary\": 1  # Marca como principal\n",
    "        },\n",
    "        {\n",
    "            \"phone\": contact['phone_2'],  # Teléfono principal\n",
    "            \"is_primary\": 0  # Marca como principal\n",
    "        }\n",
    "    ]\n",
    "}\n",
    "\n",
    "address_data = {\n",
    "    \"address_line1\": salesorder['cf_2737'],    # Dirección línea 1\n",
    "    \"city\": salesorder['cf_2739'],\n",
    "    \"state\": salesorder['state'],\n",
    "    \"zipcode\": salesorder['zipcode'],\n",
    "    \"country\": \"United States\",\n",
    "}"
   ]
  },
  {
   "cell_type": "code",
   "execution_count": null,
   "metadata": {},
   "outputs": [],
   "source": [
    "endpoint = \"/api/resource/Customer\"\n",
    "\n",
    "customer_data = {\n",
    "    \"customer_name\": f\"{contact_data['first_name']} {contact_data['middle_name']} {contact_data['last_name']}\",  # Nombre completo del cliente o empresa\n",
    "    \"customer_type\": \"Individual\",\n",
    "    \"territory\": \"All Territories\"\n",
    "}\n",
    "\n",
    "response = requests.post(f\"{base_url}{endpoint}\", json=customer_data, headers=headers)\n",
    "\n",
    "customer_name = None\n",
    "# Ver el resultado\n",
    "if response.status_code == 200:\n",
    "    print(\"Contacto creado exitosamente:\")\n",
    "    resp = response.json()\n",
    "    print(resp)\n",
    "    customer_name = resp['data']['name']\n",
    "else:\n",
    "    print(f\"Error al crear el contacto: {response.status_code} - {response.text}\")\n",
    "\n",
    "customer_name"
   ]
  },
  {
   "cell_type": "code",
   "execution_count": null,
   "metadata": {},
   "outputs": [],
   "source": [
    "endpoint = \"/api/resource/Contact\"\n",
    "\n",
    "contact_data['links'] = [\n",
    "    {\n",
    "        \"link_doctype\": \"Customer\",\n",
    "        \"link_name\": customer_name  # Vinculamos el contacto con el Customer creado\n",
    "    }\n",
    "]\n",
    "response = requests.post(f\"{base_url}{endpoint}\", json=contact_data, headers=headers)\n",
    "\n",
    "contact_name = None\n",
    "# Ver el resultado\n",
    "if response.status_code == 200:\n",
    "    print(\"Contacto creado exitosamente:\")\n",
    "    resp = response.json()\n",
    "    contact_name = resp['data']['name']\n",
    "else:\n",
    "    print(f\"Error al crear el contacto: {response.status_code} - {response.text}\")\n",
    "\n",
    "contact_name"
   ]
  },
  {
   "cell_type": "code",
   "execution_count": null,
   "metadata": {},
   "outputs": [],
   "source": [
    "endpoint = \"/api/resource/Address\"\n",
    "\n",
    "# Datos del nuevo contacto\n",
    "address_data[\"address_title\"] = f\"{customer_name}\"  # Título de la dirección\n",
    "address_data['links'] = [\n",
    "    {\n",
    "        \"link_doctype\": \"Customer\",\n",
    "        \"link_name\": customer_name  # Vinculamos el contacto con el Customer creado\n",
    "    }\n",
    "]\n",
    "\n",
    "response = requests.post(f\"{base_url}{endpoint}\", json=address_data, headers=headers)\n",
    "\n",
    "address_name = None\n",
    "# Ver el resultado\n",
    "if response.status_code == 200:\n",
    "    print(\"Dirección creada exitosamente:\")\n",
    "    resp = response.json()\n",
    "    print(resp)\n",
    "    address_name = resp['data']['name']\n",
    "else:\n",
    "    print(f\"Error al crear la dirección: {response.status_code} - {response.text}\")\n",
    "\n",
    "address_name"
   ]
  },
  {
   "cell_type": "code",
   "execution_count": null,
   "metadata": {},
   "outputs": [],
   "source": [
    "update_data = {\n",
    "    \"customer_primary_contact\": contact_name,  # ID del contacto como primario\n",
    "    \"customer_primary_address\": address_name  # Reemplaza con el ID de la dirección primaria\n",
    "}\n",
    "\n",
    "update_customer_endpoint = f\"/api/resource/Customer/{customer_name}\"\n",
    "\n",
    "update_response = requests.put(f\"{base_url}{update_customer_endpoint}\", json=update_data, headers=headers)\n",
    "\n",
    "# Ver el resultado de la actualización del Cliente\n",
    "if update_response.status_code == 200:\n",
    "    print(\"Cliente actualizado exitosamente:\", update_response.json())\n",
    "else:\n",
    "    print(f\"Error al actualizar el cliente: {update_response.status_code} - {update_response.text}\")"
   ]
  },
  {
   "cell_type": "code",
   "execution_count": null,
   "metadata": {},
   "outputs": [],
   "source": []
  }
 ],
 "metadata": {
  "kernelspec": {
   "display_name": "poetry",
   "language": "python",
   "name": "python3"
  },
  "language_info": {
   "codemirror_mode": {
    "name": "ipython",
    "version": 3
   },
   "file_extension": ".py",
   "mimetype": "text/x-python",
   "name": "python",
   "nbconvert_exporter": "python",
   "pygments_lexer": "ipython3",
   "version": "3.12.4"
  }
 },
 "nbformat": 4,
 "nbformat_minor": 2
}
