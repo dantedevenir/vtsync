{
 "cells": [
  {
   "cell_type": "code",
   "execution_count": 1,
   "metadata": {},
   "outputs": [
    {
     "name": "stdout",
     "output_type": "stream",
     "text": [
      "{'message': 'Administrator'}\n"
     ]
    }
   ],
   "source": [
    "import requests\n",
    "\n",
    "# Datos de la API\n",
    "base_url = \"http://development.localhost:8000\"\n",
    "api_key = \"8d2f08387ea6aca\"\n",
    "api_secret = \"9b887566130a4cd\"\n",
    "\n",
    "# Headers para autenticación\n",
    "headers = {\n",
    "    \"Authorization\": f\"token {api_key}:{api_secret}\"\n",
    "}\n",
    "\n",
    "# Endpoint que deseas consumir (ejemplo: listar documentos de la Doctype 'Item')\n",
    "endpoint = \"/api/method/frappe.auth.get_logged_user\"\n",
    "\n",
    "# Hacer la petición GET\n",
    "response = requests.get(f\"{base_url}{endpoint}\", headers=headers)\n",
    "\n",
    "# Ver el resultado\n",
    "if response.status_code == 200:\n",
    "    data = response.json()\n",
    "    print(data)\n",
    "else:\n",
    "    print(f\"Error: {response.status_code} - {response.text}\")"
   ]
  },
  {
   "cell_type": "code",
   "execution_count": 2,
   "metadata": {},
   "outputs": [],
   "source": [
    "def link_transfer(name, doctype, links: dict):\n",
    "    data = {\n",
    "        f\"customer_primary_{doctype.lower()}\": name,  # ID del contacto como primario\n",
    "    }\n",
    "\n",
    "    for link in links:\n",
    "        endpoint = f\"/api/resource/{link['link_doctype']}/{link['link_name']}\"\n",
    "        response = requests.put(f\"{base_url}{endpoint}\", json=data, headers=headers)\n",
    "    \n",
    "    endpoint_link = f\"/api/resource/{doctype}/{name}\"\n",
    "    data = {\"links\": links}\n",
    "    response_link = requests.put(f\"{base_url}{endpoint_link}\", json=data, headers=headers)\n",
    "    if response_link.status_code == 200 and response.status_code == 200:\n",
    "        print(f\"{link['link_name']} actualizado exitosamente\")"
   ]
  },
  {
   "cell_type": "code",
   "execution_count": 3,
   "metadata": {},
   "outputs": [],
   "source": [
    "def create(doctype: str, data: dict, links: dict = None) -> str:\n",
    "    endpoint = f'/api/resource/{doctype}'\n",
    "\n",
    "    response = requests.post(f\"{base_url}{endpoint}\", json=data, headers=headers)\n",
    "\n",
    "    name = None\n",
    "    \n",
    "    if links: data['links'] = links\n",
    "\n",
    "    if response.status_code == 200:\n",
    "        print(f\"{doctype} creado exitosamente:\")\n",
    "        resp = response.json()\n",
    "        print(resp)\n",
    "        name = resp['data']['name']\n",
    "        if links: link_transfer(name, doctype, data['links'])\n",
    "    else:\n",
    "        print(f\"Error al crear el {doctype}: {response.status_code} - {response.text}\")\n",
    "        \n",
    "    \n",
    "    return name"
   ]
  },
  {
   "cell_type": "code",
   "execution_count": 4,
   "metadata": {},
   "outputs": [
    {
     "name": "stdout",
     "output_type": "stream",
     "text": [
      "19x113\n"
     ]
    }
   ],
   "source": [
    "from api.sync import Sync\n",
    "\n",
    "client = Sync('http://192.168.99.102/vtigercrm_2022', 'superadmin', 'MFaeyxCMTmRrUZiE')\n",
    "\n",
    "service_id = \"24x3\"\n",
    "product_id = \"14x11\"\n",
    "assigned_user_id = \"19x1\""
   ]
  },
  {
   "cell_type": "code",
   "execution_count": 5,
   "metadata": {},
   "outputs": [],
   "source": [
    "module = \"SalesOrder\"\n",
    "condition = {\n",
    "    \"cf_2059\" :\"2025-01-01\"\n",
    "}\n",
    "\n",
    "module_object = client.search(module, condition)"
   ]
  },
  {
   "cell_type": "code",
   "execution_count": 6,
   "metadata": {},
   "outputs": [],
   "source": [
    "def create_dependent_data(salesorder_data):\n",
    "    mapping_cf = [\n",
    "        {\n",
    "            \"type\": \"spouse\",\n",
    "            \"firstname\": \"cf_2347\",\n",
    "            \"middlename\": \"cf_2349\",\n",
    "            \"lastname\": \"cf_2351\",\n",
    "            \"ssn\": \"cf_2357\",\n",
    "            \"dob\": \"cf_2355\",\n",
    "            \"gender\": \"cf_2359\",\n",
    "            \"apply\": \"cf_2389\",\n",
    "            \"smoke\": \"cf_2709\",\n",
    "            \"pregnant\": \"cf_2383\",\n",
    "            \"relationship\": \"\",\n",
    "            \"document\": \"cf_2603\",\n",
    "        },\n",
    "        {\n",
    "            \"type\": \"dependent_1\",\n",
    "            \"firstname\": \"cf_2405\",\n",
    "            \"middlename\": \"cf_2407\",\n",
    "            \"lastname\": \"cf_2409\",\n",
    "            \"ssn\": \"cf_2417\",\n",
    "            \"dob\": \"cf_2413\",\n",
    "            \"gender\": \"cf_2411\",\n",
    "            \"apply\": \"cf_2401\",\n",
    "            \"smoke\": \"cf_2711\",\n",
    "            \"pregnant\": \"cf_2423\",\n",
    "            \"relationship\": \"cf_2431\",\n",
    "            \"document\": \"cf_2605\"\n",
    "        },\n",
    "        {\n",
    "            \"type\": \"dependent_2\",\n",
    "            \"firstname\": \"cf_2443\",\n",
    "            \"middlename\": \"cf_2445\",\n",
    "            \"lastname\": \"cf_2447\",\n",
    "            \"ssn\": \"cf_2455\",\n",
    "            \"dob\": \"cf_2451\",\n",
    "            \"gender\": \"cf_2449\",\n",
    "            \"apply\": \"cf_2439\",\n",
    "            \"smoke\": \"cf_2713\",\n",
    "            \"pregnant\": \"cf_2459\",\n",
    "            \"relationship\": \"cf_2465\",\n",
    "            \"document\": \"cf_2607\"\n",
    "        },\n",
    "        {\n",
    "            \"type\": \"dependent_3\",\n",
    "            \"firstname\": \"cf_2479\",\n",
    "            \"middlename\": \"cf_2481\",\n",
    "            \"lastname\": \"cf_2483\",\n",
    "            \"ssn\": \"cf_2491\",\n",
    "            \"dob\": \"cf_2487\",\n",
    "            \"gender\": \"cf_2485\",\n",
    "            \"apply\": \"cf_2475\",\n",
    "            \"smoke\": \"cf_2715\",\n",
    "            \"pregnant\": \"cf_2495\",\n",
    "            \"relationship\": \"cf_2501\",\n",
    "            \"document\": \"cf_2609\"\n",
    "        },\n",
    "        {\n",
    "            \"type\": \"dependent_4\",\n",
    "            \"firstname\": \"cf_2515\",\n",
    "            \"middlename\": \"cf_2517\",\n",
    "            \"lastname\": \"cf_2519\",\n",
    "            \"ssn\": \"cf_2527\",\n",
    "            \"dob\": \"cf_2523\",\n",
    "            \"gender\": \"cf_2521\",\n",
    "            \"apply\": \"cf_2511\",\n",
    "            \"smoke\": \"cf_2717\",\n",
    "            \"pregnant\": \"cf_2531\",\n",
    "            \"relationship\": \"cf_2537\",\n",
    "            \"document\": \"cf_2639\"\n",
    "        },\n",
    "        {\n",
    "            \"type\": \"dependent_5\",\n",
    "            \"firstname\": \"cf_2645\",\n",
    "            \"middlename\": \"cf_2647\",\n",
    "            \"lastname\": \"cf_2649\",\n",
    "            \"ssn\": \"cf_2687\",\n",
    "            \"dob\": \"cf_2681\",\n",
    "            \"gender\": \"cf_2679\",\n",
    "            \"apply\": \"cf_2615\",\n",
    "            \"smoke\": \"cf_2719\",\n",
    "            \"pregnant\": \"cf_2685\",\n",
    "            \"relationship\": \"cf_2699\",\n",
    "            \"document\": \"cf_2683\"\n",
    "        }\n",
    "    ]\n",
    "    \n",
    "    owner_data = []\n",
    "    \n",
    "    for dependent_cf in mapping_cf:\n",
    "        if salesorder_data[dependent_cf['apply']] != '':\n",
    "            owner_data.append(\n",
    "                {\n",
    "                    \"first_name\": salesorder_data[dependent_cf['firstname']],\n",
    "                    \"middle_name\": salesorder_data[dependent_cf['middlename']],\n",
    "                    \"last_name\": salesorder_data[dependent_cf['lastname']],\n",
    "                },\n",
    "            )\n",
    "    \n",
    "    return owner_data"
   ]
  },
  {
   "cell_type": "code",
   "execution_count": 7,
   "metadata": {},
   "outputs": [],
   "source": [
    "def create_dependent(salesorder_data):\n",
    "    dependent_data = create_dependent_data(salesorder_data)\n",
    "    dependent_name = []\n",
    "    for data in dependent_data:\n",
    "        dependent_name.append(create('Contact', data))\n",
    "    return dependent_name"
   ]
  },
  {
   "cell_type": "code",
   "execution_count": 8,
   "metadata": {},
   "outputs": [],
   "source": [
    "import json\n",
    "def get_id(firstname, middlename, lastname):\n",
    "    endpoint = f'/api/resource/Customer'\n",
    "    \n",
    "    filters = [\n",
    "        [\"name\", \"=\", f\"{firstname} {middlename} {lastname}\"]\n",
    "    ]\n",
    "\n",
    "    response = requests.get(f\"{base_url}{endpoint}\", params={'filters': json.dumps(filters)}, headers=headers)\n",
    "\n",
    "    if response.status_code == 200:\n",
    "        resp = response.json()\n",
    "        if len(resp['data']) > 0:\n",
    "            return False\n",
    "        else:\n",
    "            print(f\"No existe nadie llamado: {firstname} {middlename} {lastname}\")\n",
    "            return True \n",
    "    else:\n",
    "        print(f\"Error al filtrar: {filters}\")\n",
    "        return False"
   ]
  },
  {
   "cell_type": "code",
   "execution_count": 9,
   "metadata": {},
   "outputs": [
    {
     "data": {
      "text/plain": [
       "False"
      ]
     },
     "execution_count": 9,
     "metadata": {},
     "output_type": "execute_result"
    }
   ],
   "source": [
    "get_id(\"MARIA\", \"ANTONIA\", \"PENA DUARTE\")"
   ]
  },
  {
   "cell_type": "code",
   "execution_count": 18,
   "metadata": {},
   "outputs": [],
   "source": [
    "def create_owner_data(salesorder_data):\n",
    "    contact = client.get_contact_from_id(salesorder_data['contact_id'])\n",
    "    \n",
    "    owner_data = []\n",
    "    \n",
    "    if get_id(contact['firstname'], contact['middlename'], contact['lastname']):\n",
    "        owner_data = {\n",
    "            \"contact_data\": {\n",
    "                \"first_name\": contact['firstname'],\n",
    "                \"middle_name\": contact['middlename'],\n",
    "                \"last_name\": contact['lastname'],\n",
    "                \"custom_day_of_birth\": contact['dob'],\n",
    "                \"custom_ssn\": ''.join([char for char in contact['ssn'] if char.isdigit()]),\n",
    "                \"gender\": str(contact['gender']).lower().capitalize(),\n",
    "                \"email_ids\": [\n",
    "                    {\n",
    "                        \"email_id\": contact['email'],  \n",
    "                        \"is_primary\": 1,\n",
    "                    }\n",
    "                ],\n",
    "                \"phone_nos\": [\n",
    "                    {\n",
    "                        \"phone\": contact['phone_1'],\n",
    "                        \"is_primary\": 1,\n",
    "                    }\n",
    "                ]\n",
    "            },\n",
    "            \"customer_data\": {\n",
    "                \"customer_name\": f\"{contact['firstname']} {contact['middlename']} {contact['lastname']}\",\n",
    "                \"customer_type\": \"Individual\",\n",
    "                \"territory\": \"All Territories\"\n",
    "            },\n",
    "            \"address_data\": {\n",
    "                \"address_title\": f\"{contact['firstname']} {contact['middlename']} {contact['lastname']}\",\n",
    "                \"address_line1\": salesorder_data['cf_2737'],\n",
    "                \"city\": salesorder_data['cf_2739'],\n",
    "                \"state\": salesorder_data['cf_2765'],\n",
    "                \"pincode\": salesorder_data['cf_2743'],\n",
    "                \"country\": \"United States\",\n",
    "            }\n",
    "        }\n",
    "\n",
    "    return owner_data"
   ]
  },
  {
   "cell_type": "code",
   "execution_count": 11,
   "metadata": {},
   "outputs": [],
   "source": [
    "def create_owner(salesorder_data):\n",
    "    customer_name = None\n",
    "    \n",
    "    if owner_data := create_owner_data(salesorder_data):\n",
    "        customer_name = create('Customer', owner_data['customer_data'])\n",
    "        customer_links = [\n",
    "            {\n",
    "                \"link_doctype\": \"Customer\",\n",
    "                \"link_name\": customer_name\n",
    "            }\n",
    "        ]\n",
    "        create('Address', owner_data['address_data'], customer_links)\n",
    "        create('Contact', owner_data['contact_data'], customer_links)\n",
    "        \n",
    "    return customer_name"
   ]
  },
  {
   "cell_type": "code",
   "execution_count": 12,
   "metadata": {},
   "outputs": [],
   "source": [
    "def create_salesorder(customer_name: str):\n",
    "    endpoint = f'/api/resource/Sales Order'\n",
    "    \n",
    "    data = {\n",
    "        \"customer\": customer_name,  # Reemplaza por el ID del cliente\n",
    "        \"delivery_date\": \"2025-01-01\",  # Fecha de entrega\n",
    "        \"items\": [\n",
    "            {\n",
    "                \"item_code\": \"BS\",  # Reemplaza por el código del artículo\n",
    "                \"qty\": 1,\n",
    "                \"rate\": 100.0  # Precio del artículo\n",
    "            }\n",
    "        ],\n",
    "        \"currency\": \"USD\",  # Moneda (puede cambiarse según la configuración)\n",
    "        \"selling_price_list\": \"Standard Selling\",  # Lista de precios\n",
    "    }\n",
    "\n",
    "    response = requests.post(f\"{base_url}{endpoint}\", json=data, headers=headers)\n",
    "\n",
    "    if response.status_code == 200:\n",
    "        print(\"Sales Order creada exitosamente:\", response.json())\n",
    "    else:\n",
    "        print(\"Error al crear la Sales Order:\", response.status_code, response.text)"
   ]
  },
  {
   "cell_type": "code",
   "execution_count": 16,
   "metadata": {},
   "outputs": [],
   "source": [
    "salesorder_data = module_object[24]"
   ]
  },
  {
   "cell_type": "code",
   "execution_count": 17,
   "metadata": {},
   "outputs": [
    {
     "name": "stdout",
     "output_type": "stream",
     "text": [
      "No existe nadie llamado: DANIELLA PAOLA MONCADA\n",
      "Customer creado exitosamente:\n",
      "{'data': {'name': 'DANIELLA PAOLA MONCADA', 'owner': 'Administrator', 'creation': '2024-10-08 11:39:15.632053', 'modified': '2024-10-08 11:39:15.632053', 'modified_by': 'Administrator', 'docstatus': 0, 'idx': 0, 'naming_series': 'CUST-.YYYY.-', 'customer_name': 'DANIELLA PAOLA MONCADA', 'customer_type': 'Individual', 'territory': 'All Territories', 'is_internal_customer': 0, 'language': 'en-US', 'default_commission_rate': 0.0, 'so_required': 0, 'dn_required': 0, 'exempt_from_sales_tax': 0, 'is_frozen': 0, 'disabled': 0, 'doctype': 'Customer', 'sales_team': [], 'credit_limits': [], 'portal_users': [], 'companies': [], 'accounts': []}}\n",
      "Address creado exitosamente:\n",
      "{'data': {'name': 'DANIELLA PAOLA MONCADA-Billing', 'owner': 'Administrator', 'creation': '2024-10-08 11:39:15.726999', 'modified': '2024-10-08 11:39:15.726999', 'modified_by': 'Administrator', 'docstatus': 0, 'idx': 0, 'address_title': 'DANIELLA PAOLA MONCADA', 'address_type': 'Billing', 'address_line1': '19361 SW 376th Ln', 'city': 'Homestead', 'state': 'FL', 'country': 'United States', 'is_primary_address': 0, 'is_shipping_address': 0, 'disabled': 0, 'is_your_company_address': 0, 'doctype': 'Address', 'links': []}}\n",
      "DANIELLA PAOLA MONCADA actualizado exitosamente\n",
      "Contact creado exitosamente:\n",
      "{'data': {'name': 'DANIELLA PAOLA MONCADA', 'owner': 'Administrator', 'creation': '2024-10-08 11:39:16.054999', 'modified': '2024-10-08 11:39:16.054999', 'modified_by': 'Administrator', 'docstatus': 0, 'idx': 0, 'first_name': 'DANIELLA', 'middle_name': 'PAOLA', 'last_name': 'MONCADA', 'full_name': 'DANIELLA PAOLA MONCADA', 'email_id': 'daniellapmb@gmail.com', 'sync_with_google_contacts': 0, 'custom_day_of_birth': '1997-07-26', 'custom_ssn': '774042109', 'status': 'Passive', 'gender': 'Female', 'phone': '', 'mobile_no': '', 'image': '', 'pulled_from_google_contacts': 0, 'is_primary_contact': 0, 'is_billing_contact': 0, 'unsubscribed': 0, 'doctype': 'Contact', 'email_ids': [{'name': 'ft48ug5rm8', 'owner': 'Administrator', 'creation': '2024-10-08 11:39:16.054999', 'modified': '2024-10-08 11:39:16.054999', 'modified_by': 'Administrator', 'docstatus': 0, 'idx': 1, 'email_id': 'daniellapmb@gmail.com', 'is_primary': 1, 'parent': 'DANIELLA PAOLA MONCADA', 'parentfield': 'email_ids', 'parenttype': 'Contact', 'doctype': 'Contact Email', '__unsaved': 1}], 'links': [], 'phone_nos': [{'name': 'ft487t8d41', 'owner': 'Administrator', 'creation': '2024-10-08 11:39:16.054999', 'modified': '2024-10-08 11:39:16.054999', 'modified_by': 'Administrator', 'docstatus': 0, 'idx': 1, 'phone': '7865836421', 'is_primary_phone': 0, 'is_primary_mobile_no': 0, 'parent': 'DANIELLA PAOLA MONCADA', 'parentfield': 'phone_nos', 'parenttype': 'Contact', 'doctype': 'Contact Phone', '__unsaved': 1}]}}\n",
      "DANIELLA PAOLA MONCADA actualizado exitosamente\n",
      "Sales Order creada exitosamente: {'data': {'name': 'SAL-ORD-2024-00001', 'owner': 'Administrator', 'creation': '2024-10-08 11:39:16.888392', 'modified': '2024-10-08 11:39:16.888392', 'modified_by': 'Administrator', 'docstatus': 0, 'idx': 0, 'title': '{customer_name}', 'naming_series': 'SAL-ORD-.YYYY.-', 'customer': 'DANIELLA PAOLA MONCADA', 'customer_name': 'DANIELLA PAOLA MONCADA', 'order_type': 'Sales', 'transaction_date': '2024-10-08', 'delivery_date': '2025-01-01', 'company': 'Mabe Center', 'skip_delivery_note': 0, 'currency': 'USD', 'conversion_rate': 1.0, 'selling_price_list': 'Standard Selling', 'price_list_currency': 'USD', 'plc_conversion_rate': 1.0, 'ignore_pricing_rule': 0, 'reserve_stock': 0, 'total_qty': 1.0, 'total_net_weight': 0.0, 'base_total': 100.0, 'base_net_total': 100.0, 'total': 100.0, 'net_total': 100.0, 'tax_category': '', 'exempt_from_sales_tax': 0, 'base_total_taxes_and_charges': 0.0, 'total_taxes_and_charges': 0.0, 'base_grand_total': 100.0, 'base_rounding_adjustment': 0.0, 'base_rounded_total': 100.0, 'base_in_words': 'USD One Hundred only.', 'grand_total': 100.0, 'rounding_adjustment': 0.0, 'rounded_total': 100.0, 'in_words': 'USD One Hundred only.', 'advance_paid': 0.0, 'disable_rounded_total': 0, 'apply_discount_on': 'Grand Total', 'base_discount_amount': 0.0, 'additional_discount_percentage': 0.0, 'discount_amount': 0.0, 'customer_address': 'DANIELLA PAOLA MONCADA-Billing', 'address_display': '19361 SW 376th Ln<br>\\nHomestead, FL', 'territory': 'All Territories', 'status': 'Draft', 'delivery_status': 'Not Delivered', 'per_delivered': 0.0, 'per_billed': 0.0, 'per_picked': 0.0, 'billing_status': 'Not Billed', 'amount_eligible_for_commission': 100.0, 'commission_rate': 0.0, 'total_commission': 0.0, 'loyalty_points': 0, 'loyalty_amount': 0.0, 'group_same_items': 0, 'language': 'en-US', 'is_internal_customer': 0, 'doctype': 'Sales Order', 'sales_team': [], 'packed_items': [], 'payment_schedule': [{'name': 'ft4i9pshbs', 'owner': 'Administrator', 'creation': '2024-10-08 11:39:17.072267', 'modified': '2024-10-08 11:39:17.072267', 'modified_by': 'Administrator', 'docstatus': 0, 'idx': 1, 'due_date': '2024-10-08', 'invoice_portion': 100.0, 'discount': 0.0, 'payment_amount': 100.0, 'outstanding': 100.0, 'paid_amount': 0.0, 'discounted_amount': 0.0, 'base_payment_amount': 100.0, 'parent': 'SAL-ORD-2024-00001', 'parentfield': 'payment_schedule', 'parenttype': 'Sales Order', 'doctype': 'Payment Schedule'}], 'items': [{'name': 'ft4hau6l5s', 'owner': 'Administrator', 'creation': '2024-10-08 11:39:16.888392', 'modified': '2024-10-08 11:39:16.888392', 'modified_by': 'Administrator', 'docstatus': 0, 'idx': 1, 'item_code': 'BS', 'ensure_delivery_based_on_produced_serial_no': 0, 'is_stock_item': 1, 'reserve_stock': 0, 'delivery_date': '2025-01-01', 'item_name': 'BS', 'description': 'BS', 'item_group': 'All Item Groups', 'image': '', 'qty': 1.0, 'stock_uom': 'Nos', 'uom': 'Nos', 'conversion_factor': 1.0, 'stock_qty': 1.0, 'stock_reserved_qty': 0.0, 'price_list_rate': 0.0, 'base_price_list_rate': 0.0, 'margin_type': '', 'margin_rate_or_amount': 0.0, 'rate_with_margin': 0.0, 'discount_percentage': 0.0, 'discount_amount': 0.0, 'base_rate_with_margin': 0.0, 'rate': 100.0, 'amount': 100.0, 'base_rate': 100.0, 'base_amount': 100.0, 'stock_uom_rate': 100.0, 'is_free_item': 0, 'grant_commission': 1, 'net_rate': 100.0, 'net_amount': 100.0, 'base_net_rate': 100.0, 'base_net_amount': 100.0, 'billed_amt': 0.0, 'valuation_rate': 0.0, 'gross_profit': 100.0, 'delivered_by_supplier': 0, 'weight_per_unit': 0.0, 'total_weight': 0.0, 'warehouse': 'Stores - MC', 'against_blanket_order': 0, 'blanket_order_rate': 0.0, 'projected_qty': 0.0, 'actual_qty': 0.0, 'ordered_qty': 0.0, 'planned_qty': 0.0, 'production_plan_qty': 0.0, 'work_order_qty': 0.0, 'delivered_qty': 0.0, 'produced_qty': 0.0, 'returned_qty': 0.0, 'picked_qty': 0.0, 'page_break': 0, 'item_tax_rate': '{}', 'transaction_date': '2024-10-08', 'parent': 'SAL-ORD-2024-00001', 'parentfield': 'items', 'parenttype': 'Sales Order', 'doctype': 'Sales Order Item', '__unsaved': 1}], 'taxes': [], 'pricing_rules': []}, '_server_messages': '[\"{\\\\\"message\\\\\": \\\\\"Item Price added for BS in Price List Standard Selling\\\\\", \\\\\"title\\\\\": \\\\\"Message\\\\\", \\\\\"alert\\\\\": 1}\"]'}\n"
     ]
    }
   ],
   "source": [
    "owner_name = create_owner(salesorder_data)\n",
    "salesorder_name = create_salesorder(owner_name)\n",
    "#dependent_name = create_dependent(salesorder_data)\n"
   ]
  },
  {
   "cell_type": "code",
   "execution_count": 15,
   "metadata": {},
   "outputs": [
    {
     "data": {
      "text/plain": [
       "'GABY  MERINO NATTERI'"
      ]
     },
     "execution_count": 15,
     "metadata": {},
     "output_type": "execute_result"
    }
   ],
   "source": [
    "owner_name"
   ]
  }
 ],
 "metadata": {
  "kernelspec": {
   "display_name": "poetry",
   "language": "python",
   "name": "python3"
  },
  "language_info": {
   "codemirror_mode": {
    "name": "ipython",
    "version": 3
   },
   "file_extension": ".py",
   "mimetype": "text/x-python",
   "name": "python",
   "nbconvert_exporter": "python",
   "pygments_lexer": "ipython3",
   "version": "3.12.4"
  }
 },
 "nbformat": 4,
 "nbformat_minor": 2
}
