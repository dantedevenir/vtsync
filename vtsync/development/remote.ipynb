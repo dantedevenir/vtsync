{
 "cells": [
  {
   "cell_type": "code",
   "execution_count": 1,
   "metadata": {},
   "outputs": [
    {
     "name": "stdout",
     "output_type": "stream",
     "text": [
      "{'message': 'Administrator'}\n"
     ]
    }
   ],
   "source": [
    "import requests\n",
    "\n",
    "# Datos de la API\n",
    "base_url = \"http://development.localhost:8000\"\n",
    "api_key = \"8d2f08387ea6aca\"\n",
    "api_secret = \"9b887566130a4cd\"\n",
    "\n",
    "# Headers para autenticación\n",
    "headers = {\n",
    "    \"Authorization\": f\"token {api_key}:{api_secret}\"\n",
    "}\n",
    "\n",
    "# Endpoint que deseas consumir (ejemplo: listar documentos de la Doctype 'Item')\n",
    "endpoint = \"/api/method/frappe.auth.get_logged_user\"\n",
    "\n",
    "# Hacer la petición GET\n",
    "response = requests.get(f\"{base_url}{endpoint}\", headers=headers)\n",
    "\n",
    "# Ver el resultado\n",
    "if response.status_code == 200:\n",
    "    data = response.json()\n",
    "    print(data)\n",
    "else:\n",
    "    print(f\"Error: {response.status_code} - {response.text}\")"
   ]
  },
  {
   "cell_type": "code",
   "execution_count": null,
   "metadata": {},
   "outputs": [],
   "source": [
    "contact_data = {\n",
    "    \"first_name\": \"Victoria\",\n",
    "    \"middle_name\": \"Jaleth\",\n",
    "    \"last_name\": \"Gutierrez Palacios De Devia\",\n",
    "    \"email_ids\": [  # Child table para emails\n",
    "        {\n",
    "            \"email_id\": \"keniag96@mabecenter.org\",  # Email principal\n",
    "            \"is_primary\": 1  # Marca como principal\n",
    "        }\n",
    "    ],\n",
    "    \"phone_nos\": [  # Child table para números de teléfono\n",
    "        {\n",
    "            \"phone\": \"+17865478956\",  # Teléfono principal\n",
    "            \"is_primary\": 1  # Marca como principal\n",
    "        }\n",
    "    ]\n",
    "}\n",
    "\n",
    "address_data = {\n",
    "    \"address_title\": \"Siempre Viva\",  # Título de la dirección\n",
    "    \"address_line1\": \"Calle Falsa 123\",    # Dirección línea 1\n",
    "    \"address_line2\": \"Piso 4\",             # Dirección línea 2 (opcional)\n",
    "    \"city\": \"Miami\",\n",
    "    \"state\": \"FL\",\n",
    "    \"country\": \"United States\",\n",
    "}"
   ]
  },
  {
   "cell_type": "code",
   "execution_count": null,
   "metadata": {},
   "outputs": [],
   "source": [
    "endpoint = \"/api/resource/Customer\"\n",
    "\n",
    "customer_data = {\n",
    "    \"customer_name\": f\"{contact_data['first_name']} {contact_data['middle_name']} {contact_data['last_name']}\",  # Nombre completo del cliente o empresa\n",
    "    \"customer_type\": \"Individual\",\n",
    "}\n",
    "\n",
    "response = requests.post(f\"{base_url}{endpoint}\", json=customer_data, headers=headers)\n",
    "\n",
    "customer_name = None\n",
    "# Ver el resultado\n",
    "if response.status_code == 200:\n",
    "    print(\"Contacto creado exitosamente:\")\n",
    "    resp = response.json()\n",
    "    print(resp)\n",
    "    customer_name = resp['data']['name']\n",
    "else:\n",
    "    print(f\"Error al crear el contacto: {response.status_code} - {response.text}\")\n",
    "\n",
    "customer_name"
   ]
  },
  {
   "cell_type": "code",
   "execution_count": null,
   "metadata": {},
   "outputs": [],
   "source": [
    "endpoint = \"/api/resource/Contact\"\n",
    "\n",
    "contact_data['links'] = [\n",
    "    {\n",
    "        \"link_doctype\": \"Customer\",\n",
    "        \"link_name\": customer_name  # Vinculamos el contacto con el Customer creado\n",
    "    }\n",
    "]\n",
    "response = requests.post(f\"{base_url}{endpoint}\", json=contact_data, headers=headers)\n",
    "\n",
    "contact_name = None\n",
    "# Ver el resultado\n",
    "if response.status_code == 200:\n",
    "    print(\"Contacto creado exitosamente:\")\n",
    "    resp = response.json()\n",
    "    contact_name = resp['data']['name']\n",
    "else:\n",
    "    print(f\"Error al crear el contacto: {response.status_code} - {response.text}\")\n",
    "\n",
    "contact_name"
   ]
  },
  {
   "cell_type": "code",
   "execution_count": null,
   "metadata": {},
   "outputs": [],
   "source": [
    "endpoint = \"/api/resource/Address\"\n",
    "\n",
    "# Datos del nuevo contacto\n",
    "address_data['links'] = [\n",
    "    {\n",
    "        \"link_doctype\": \"Customer\",\n",
    "        \"link_name\": customer_name  # Vinculamos el contacto con el Customer creado\n",
    "    }\n",
    "]\n",
    "\n",
    "response = requests.post(f\"{base_url}{endpoint}\", json=address_data, headers=headers)\n",
    "\n",
    "address_name = None\n",
    "# Ver el resultado\n",
    "if response.status_code == 200:\n",
    "    print(\"Dirección creada exitosamente:\")\n",
    "    resp = response.json()\n",
    "    print(resp)\n",
    "    address_name = resp['data']['name']\n",
    "else:\n",
    "    print(f\"Error al crear la dirección: {response.status_code} - {response.text}\")\n",
    "\n",
    "address_name"
   ]
  },
  {
   "cell_type": "code",
   "execution_count": null,
   "metadata": {},
   "outputs": [],
   "source": [
    "update_data = {\n",
    "    \"customer_primary_contact\": contact_name,  # ID del contacto como primario\n",
    "    \"customer_primary_address\": address_name  # Reemplaza con el ID de la dirección primaria\n",
    "}\n",
    "\n",
    "update_customer_endpoint = f\"/api/resource/Customer/{customer_name}\"\n",
    "\n",
    "update_response = requests.put(f\"{base_url}{update_customer_endpoint}\", json=update_data, headers=headers)\n",
    "\n",
    "# Ver el resultado de la actualización del Cliente\n",
    "if update_response.status_code == 200:\n",
    "    print(\"Cliente actualizado exitosamente:\", update_response.json())\n",
    "else:\n",
    "    print(f\"Error al actualizar el cliente: {update_response.status_code} - {update_response.text}\")"
   ]
  }
 ],
 "metadata": {
  "kernelspec": {
   "display_name": "poetry",
   "language": "python",
   "name": "python3"
  },
  "language_info": {
   "codemirror_mode": {
    "name": "ipython",
    "version": 3
   },
   "file_extension": ".py",
   "mimetype": "text/x-python",
   "name": "python",
   "nbconvert_exporter": "python",
   "pygments_lexer": "ipython3",
   "version": "3.12.4"
  }
 },
 "nbformat": 4,
 "nbformat_minor": 2
}
