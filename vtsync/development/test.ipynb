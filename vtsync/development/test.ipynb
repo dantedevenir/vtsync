{
 "cells": [
  {
   "cell_type": "code",
   "execution_count": 33,
   "metadata": {},
   "outputs": [
    {
     "name": "stdout",
     "output_type": "stream",
     "text": [
      "b'{\"success\":true,\"result\":{\"username\":\"admin\",\"first_name\":\"Jorge\",\"last_name\":\"Devia\",\"email\":\"jorged94@mabecenter.org\",\"time_zone\":\"America\\\\/Bogota\",\"hour_format\":\"12\",\"date_format\":\"mm-dd-yyyy\",\"is_admin\":\"on\",\"call_duration\":\"5\",\"other_event_duration\":\"5\",\"sessionName\":\"46135ac166f62b51cacc1\",\"userId\":\"19x1\",\"version\":\"0.22\",\"vtigerVersion\":\"8.2.0\"}}'\n",
      "19x1\n"
     ]
    }
   ],
   "source": [
    "from api.sync import Sync\n",
    "\n",
    "client = Sync('http://localhost:8080/', 'admin', 'IjqcMZTednoYR8Lf')\n",
    "product_id = \"26x3\"\n",
    "#product_id = \"14x6\"\n",
    "assigned_user_id = \"19x1\" #cf_790\n",
    "\n",
    "#client = Sync('http://192.168.99.102/vtigercrm_2022', 'superadmin', 'MFaeyxCMTmRrUZiE')\n",
    "#product_id = \"14x11\"\n",
    "#assigned_user_id = \"19x75\" #cf_759 \"cf_2141\": \"2024-01-01\","
   ]
  },
  {
   "cell_type": "code",
   "execution_count": 6,
   "metadata": {},
   "outputs": [],
   "source": [
    "contact_data = {\n",
    "    \"assigned_user_id\": assigned_user_id,\n",
    "    \"firstname\": \"Jorge\",\n",
    "    \"lastname\": \"Devia\",\n",
    "    \"cf_790\": \"1994-03-29\"\n",
    "}"
   ]
  },
  {
   "cell_type": "code",
   "execution_count": 7,
   "metadata": {},
   "outputs": [
    {
     "name": "stdout",
     "output_type": "stream",
     "text": [
      "{'operation': 'create', 'sessionName': '4d660b8b66f625cdb4bb9', 'elementType': 'Contacts', 'element': '{\"assigned_user_id\": \"19x1\", \"firstname\": \"Jorge\", \"lastname\": \"Devia\", \"cf_790\": \"1994-03-29\"}'}\n",
      "b'{\"success\":true,\"result\":{\"salutationtype\":\"\",\"firstname\":\"Jorge\",\"contact_no\":\"CON2\",\"phone\":\"\",\"lastname\":\"Devia\",\"mobile\":\"\",\"account_id\":\"\",\"homephone\":\"\",\"leadsource\":\"\",\"otherphone\":\"\",\"title\":\"\",\"fax\":\"\",\"department\":\"\",\"birthday\":\"\",\"email\":\"\",\"contact_id\":\"\",\"assistant\":\"\",\"secondaryemail\":\"\",\"assistantphone\":\"\",\"donotcall\":\"0\",\"emailoptout\":\"0\",\"assigned_user_id\":\"19x1\",\"reference\":\"0\",\"notify_owner\":\"0\",\"createdtime\":\"2024-09-27 03:26:10\",\"modifiedtime\":\"2024-09-27 03:26:10\",\"modifiedby\":\"19x1\",\"portal\":\"0\",\"support_start_date\":\"\",\"support_end_date\":\"\",\"mailingstreet\":\"\",\"otherstreet\":\"\",\"mailingcity\":\"\",\"othercity\":\"\",\"mailingstate\":\"\",\"otherstate\":\"\",\"mailingzip\":\"\",\"otherzip\":\"\",\"mailingcountry\":\"\",\"othercountry\":\"\",\"mailingpobox\":\"\",\"otherpobox\":\"\",\"imagename\":\"\",\"description\":\"\",\"isconvertedfromlead\":\"0\",\"source\":\"WEBSERVICE\",\"starred\":\"0\",\"tags\":\"\",\"id\":\"12x4\",\"label\":\"Jorge Devia\"}}'\n"
     ]
    }
   ],
   "source": [
    "contact_id = client.create_contact(contact_data)"
   ]
  },
  {
   "cell_type": "code",
   "execution_count": 35,
   "metadata": {},
   "outputs": [
    {
     "data": {
      "text/plain": [
       "{'subject': 'testing_3',\n",
       " 'contact_id': None,\n",
       " 'assigned_user_id': '19x1',\n",
       " 'productid': '26x3',\n",
       " 'LineItems': [{'productid': '26x3', 'listprice': '0', 'quantity': '1'}]}"
      ]
     },
     "execution_count": 35,
     "metadata": {},
     "output_type": "execute_result"
    }
   ],
   "source": [
    "salesorder_data = {\n",
    "    \"subject\": \"testing_3\",\n",
    "    \"contact_id\": contact_id,\n",
    "    \"assigned_user_id\": assigned_user_id,\n",
    "    \"productid\": product_id,\n",
    "    \"LineItems\": [\n",
    "        {\n",
    "            \"productid\": product_id,\n",
    "            \"listprice\": \"0\",\n",
    "            \"quantity\": \"1\"\n",
    "        }\n",
    "    ]\n",
    "}\n",
    "salesorder_data"
   ]
  },
  {
   "cell_type": "code",
   "execution_count": 36,
   "metadata": {},
   "outputs": [
    {
     "name": "stdout",
     "output_type": "stream",
     "text": [
      "{'operation': 'create', 'sessionName': '46135ac166f62b51cacc1', 'elementType': 'SalesOrder', 'element': '{\"subject\": \"testing_3\", \"contact_id\": null, \"assigned_user_id\": \"19x1\", \"productid\": \"26x3\", \"LineItems\": [{\"productid\": \"26x3\", \"listprice\": \"0\", \"quantity\": \"1\"}]}'}\n",
      "b'{\"success\":true,\"result\":{\"id\":\"3x8\",\"salesorder_no\":\"SO3\",\"subject\":\"testing_3\",\"potential_id\":\"\",\"customerno\":\"\",\"quote_id\":\"\",\"vtiger_purchaseorder\":\"\",\"contact_id\":\"\",\"duedate\":\"\",\"carrier\":\"\",\"pending\":\"\",\"sostatus\":\"\",\"txtAdjustment\":\"0.00000000\",\"salescommission\":\"0.000\",\"exciseduty\":\"0.000\",\"hdnGrandTotal\":0,\"hdnSubTotal\":0,\"hdnTaxType\":\"\",\"hdnDiscountPercent\":\"\",\"hdnDiscountAmount\":\"\",\"hdnS_H_Amount\":\"0.00000000\",\"account_id\":\"\",\"assigned_user_id\":\"19x1\",\"createdtime\":\"2024-09-27 03:49:46\",\"modifiedtime\":\"2024-09-27 03:49:46\",\"modifiedby\":\"19x1\",\"currency_id\":\"\",\"conversion_rate\":\"1.000\",\"bill_street\":\"\",\"ship_street\":\"\",\"bill_city\":\"\",\"ship_city\":\"\",\"bill_state\":\"\",\"ship_state\":\"\",\"bill_code\":\"\",\"ship_code\":\"\",\"bill_country\":\"\",\"ship_country\":\"\",\"bill_pobox\":\"\",\"ship_pobox\":\"\",\"description\":\"\",\"terms_conditions\":\"\",\"enable_recurring\":\"0\",\"recurring_frequency\":\"\",\"start_period\":\"\",\"end_period\":\"\",\"payment_duration\":\"\",\"invoicestatus\":\"\",\"pre_tax_total\":0,\"hdnS_H_Percent\":\"0.000\",\"source\":\"WEBSERVICE\",\"starred\":\"0\",\"tags\":\"\",\"region_id\":\"\",\"last_recurring_date\":\"\",\"label\":\"testing_3\",\"shipping_&_handling\":null,\"shipping_&_handling_shtax1\":0,\"shipping_&_handling_shtax2\":0,\"shipping_&_handling_shtax3\":0,\"LineItems\":[{\"parent_id\":\"3xArray\",\"productid\":\"26x3\",\"sequence_no\":\"1\",\"quantity\":\"1.000\",\"listprice\":\"0.00000000\",\"discount_percent\":\"0.000\",\"discount_amount\":\"0.00000000\",\"comment\":\"\",\"description\":\"\",\"incrementondel\":\"0\",\"tax1\":\"0.000\",\"tax2\":\"0.000\",\"tax3\":\"0.000\",\"image\":\"\",\"purchase_cost\":\"0.00000000\",\"margin\":\"0.00000000\",\"id\":\"33x4\",\"product_name\":\"Policy\",\"entity_type\":\"Services\",\"deleted\":\"0\"}],\"productid\":null,\"LineItems_FinalDetails\":{\"1\":{\"final_details\":{\"taxtype\":null,\"discount_type_final\":\"zero\",\"hdnSubTotal\":\"0.00\",\"discount_percentage_final\":0,\"discount_amount_final\":\"0.00\",\"discountTotal_final\":\"0.00\",\"taxes\":{\"1\":{\"taxname\":\"tax1\",\"taxlabel\":\"VAT\",\"percentage\":\"4.500\",\"amount\":\"0.00\",\"taxid\":\"1\",\"type\":\"Fixed\",\"method\":\"Simple\",\"regions\":[],\"compoundon\":[]},\"2\":{\"taxname\":\"tax2\",\"taxlabel\":\"Sales\",\"percentage\":\"10.000\",\"amount\":\"0.00\",\"taxid\":\"2\",\"type\":\"Fixed\",\"method\":\"Simple\",\"regions\":[],\"compoundon\":[]},\"3\":{\"taxname\":\"tax3\",\"taxlabel\":\"Service\",\"percentage\":\"12.500\",\"amount\":\"0.00\",\"taxid\":\"3\",\"type\":\"Fixed\",\"method\":\"Simple\",\"regions\":[],\"compoundon\":[]}},\"tax_totalamount\":\"0.00\",\"shipping_handling_charge\":\"0.00\",\"sh_taxes\":[{\"taxname\":\"shtax1\",\"taxlabel\":\"VAT\",\"percentage\":0,\"amount\":0,\"taxid\":\"1\",\"type\":\"Fixed\",\"method\":\"Simple\",\"regions\":[],\"compoundon\":[]},{\"taxname\":\"shtax2\",\"taxlabel\":\"Sales\",\"percentage\":0,\"amount\":0,\"taxid\":\"2\",\"type\":\"Fixed\",\"method\":\"Simple\",\"regions\":[],\"compoundon\":[]},{\"taxname\":\"shtax3\",\"taxlabel\":\"Service\",\"percentage\":0,\"amount\":0,\"taxid\":\"3\",\"type\":\"Fixed\",\"method\":\"Simple\",\"regions\":[],\"compoundon\":[]}],\"shtax_totalamount\":\"0.00\",\"adjustment\":\"0.00\",\"grandTotal\":\"0.00\",\"preTaxTotal\":\"0.00\",\"totalAfterDiscount\":\"0.00\",\"chargesAndItsTaxes\":{\"1\":{\"value\":null,\"taxes\":{\"1\":0,\"2\":0,\"3\":0}}},\"deductTaxes\":[],\"deductTaxesTotalAmount\":\"0.00\"}}},\"new\":true}}'\n"
     ]
    },
    {
     "ename": "ValueError",
     "evalue": "too many values to unpack (expected 1)",
     "output_type": "error",
     "traceback": [
      "\u001b[0;31m---------------------------------------------------------------------------\u001b[0m",
      "\u001b[0;31mValueError\u001b[0m                                Traceback (most recent call last)",
      "Cell \u001b[0;32mIn[36], line 1\u001b[0m\n\u001b[0;32m----> 1\u001b[0m salesorder_id \u001b[38;5;241m=\u001b[39m \u001b[43mclient\u001b[49m\u001b[38;5;241;43m.\u001b[39;49m\u001b[43mcreate_salesorder\u001b[49m\u001b[43m(\u001b[49m\u001b[43msalesorder_data\u001b[49m\u001b[43m)\u001b[49m\n",
      "File \u001b[0;32m~/repos/vtsync/vtsync/base/api/sync.py:20\u001b[0m, in \u001b[0;36mSync.create_salesorder\u001b[0;34m(self, salesorder_data)\u001b[0m\n\u001b[1;32m     19\u001b[0m \u001b[38;5;28;01mdef\u001b[39;00m \u001b[38;5;21mcreate_salesorder\u001b[39m(\u001b[38;5;28mself\u001b[39m, salesorder_data):\n\u001b[0;32m---> 20\u001b[0m     salesOrder_id, \u001b[38;5;241m=\u001b[39m \u001b[38;5;28mself\u001b[39m\u001b[38;5;241m.\u001b[39mws\u001b[38;5;241m.\u001b[39mdoCreate(\u001b[38;5;124m'\u001b[39m\u001b[38;5;124mSalesOrder\u001b[39m\u001b[38;5;124m'\u001b[39m, salesorder_data)\n",
      "\u001b[0;31mValueError\u001b[0m: too many values to unpack (expected 1)"
     ]
    }
   ],
   "source": [
    "salesorder_id = client.create_salesorder(salesorder_data)"
   ]
  },
  {
   "cell_type": "code",
   "execution_count": 6,
   "metadata": {},
   "outputs": [],
   "source": [
    "contact_id = client.get_contact_id('FRANCISCO', 'MARTINEZ', '01-03-1961')"
   ]
  }
 ],
 "metadata": {
  "kernelspec": {
   "display_name": ".venv",
   "language": "python",
   "name": "python3"
  },
  "language_info": {
   "codemirror_mode": {
    "name": "ipython",
    "version": 3
   },
   "file_extension": ".py",
   "mimetype": "text/x-python",
   "name": "python",
   "nbconvert_exporter": "python",
   "pygments_lexer": "ipython3",
   "version": "3.12.4"
  }
 },
 "nbformat": 4,
 "nbformat_minor": 2
}
