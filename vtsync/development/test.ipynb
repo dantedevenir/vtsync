{
 "cells": [
  {
   "cell_type": "code",
   "execution_count": 1,
   "metadata": {},
   "outputs": [
    {
     "name": "stdout",
     "output_type": "stream",
     "text": [
      "{\n",
      "    \"firstname\": \"Nombre\",\n",
      "    \"lastname\": \"Apellidos\",\n",
      "    \"modifiedby\": \"\\u00daltima modificaci\\u00f3n por\",\n",
      "    \"cf_788\": \"Segundo Nombre\",\n",
      "    \"cf_790\": \"DOB\",\n",
      "    \"cf_796\": \"Sexo\",\n",
      "    \"cf_798\": \"SSN\",\n",
      "    \"cf_956\": \"Estado Actual\",\n",
      "    \"otherphone\": \"Tel. otro\",\n",
      "    \"email\": \"Correo\",\n",
      "    \"cf_800\": \"Tel. m\\u00f3vil\",\n",
      "    \"cf_958\": \"Tel\\u00e9fono Emergencia\",\n",
      "    \"cf_962\": \"Nombre emergencia\",\n",
      "    \"cf_808\": \"Descripci\\u00f3n\",\n",
      "    \"assigned_user_id\": \"Asignado a\",\n",
      "    \"createdtime\": \"Fecha de creaci\\u00f3n\",\n",
      "    \"modifiedtime\": \"Fecha de modificaci\\u00f3n\",\n",
      "    \"isconvertedfromlead\": \"Creado a partir de Prospecto\",\n",
      "    \"contact_no\": \"Id Contacto\",\n",
      "    \"leadsource\": \"Origen del Prospecto\",\n",
      "    \"donotcall\": \"No llamar por tel\\u00e9fono\",\n",
      "    \"cf_786\": \"Periodo\",\n",
      "    \"cf_792\": \"A\\u00f1o\",\n",
      "    \"cf_950\": \"Status Sell\",\n",
      "    \"cf_952\": \"Be Healthy\",\n",
      "    \"cf_954\": \"Idioma\",\n",
      "    \"id\": \"contactid\"\n",
      "}\n",
      "19x1\n"
     ]
    }
   ],
   "source": [
    "from api.sync import Sync\n",
    "\n",
    "client = Sync('https://192.168.99.115', 'admin', 'nvxMQc3PRvXn5MSl')"
   ]
  },
  {
   "cell_type": "code",
   "execution_count": 2,
   "metadata": {},
   "outputs": [],
   "source": [
    "contact_id = client.get_contact_id('FRANCISCO', 'MARTINEZ', '01-03-1961')"
   ]
  },
  {
   "cell_type": "code",
   "execution_count": null,
   "metadata": {},
   "outputs": [],
   "source": [
    "contact_id"
   ]
  }
 ],
 "metadata": {
  "kernelspec": {
   "display_name": ".venv",
   "language": "python",
   "name": "python3"
  },
  "language_info": {
   "codemirror_mode": {
    "name": "ipython",
    "version": 3
   },
   "file_extension": ".py",
   "mimetype": "text/x-python",
   "name": "python",
   "nbconvert_exporter": "python",
   "pygments_lexer": "ipython3",
   "version": "3.12.4"
  }
 },
 "nbformat": 4,
 "nbformat_minor": 2
}
